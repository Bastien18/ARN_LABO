{
  "cells": [
    {
      "cell_type": "markdown",
      "metadata": {
        "id": "view-in-github",
        "colab_type": "text"
      },
      "source": [
        "<a href=\"https://colab.research.google.com/github/Bastien18/ARN_LABO/blob/main/PW4_notebooks/CNN_Fashion.ipynb\" target=\"_parent\"><img src=\"https://colab.research.google.com/assets/colab-badge.svg\" alt=\"Open In Colab\"/></a>"
      ]
    },
    {
      "cell_type": "markdown",
      "metadata": {
        "id": "HkLUJVa1bfNW"
      },
      "source": [
        "# Convolutional Neural Networks\n",
        "This notebook will guide you through the use of the `keras` package to train convolutional neural networks for handwritten digits classification. You are going to use the `mnist` dataset from LeCun et al. 1998."
      ]
    },
    {
      "cell_type": "markdown",
      "metadata": {
        "id": "SjQUQygFbfNb"
      },
      "source": [
        "## Loading the packages"
      ]
    },
    {
      "cell_type": "code",
      "execution_count": 1,
      "metadata": {
        "id": "h7O8MewabfNj",
        "colab": {
          "base_uri": "https://localhost:8080/"
        },
        "outputId": "97f3eba9-27ca-4895-c27c-92590e411ccb"
      },
      "outputs": [
        {
          "output_type": "stream",
          "name": "stdout",
          "text": [
            "Looking in indexes: https://pypi.org/simple, https://us-python.pkg.dev/colab-wheels/public/simple/\n",
            "Requirement already satisfied: tensorflow in /usr/local/lib/python3.10/dist-packages (2.12.0)\n",
            "Requirement already satisfied: absl-py>=1.0.0 in /usr/local/lib/python3.10/dist-packages (from tensorflow) (1.4.0)\n",
            "Requirement already satisfied: astunparse>=1.6.0 in /usr/local/lib/python3.10/dist-packages (from tensorflow) (1.6.3)\n",
            "Requirement already satisfied: flatbuffers>=2.0 in /usr/local/lib/python3.10/dist-packages (from tensorflow) (23.3.3)\n",
            "Requirement already satisfied: gast<=0.4.0,>=0.2.1 in /usr/local/lib/python3.10/dist-packages (from tensorflow) (0.4.0)\n",
            "Requirement already satisfied: google-pasta>=0.1.1 in /usr/local/lib/python3.10/dist-packages (from tensorflow) (0.2.0)\n",
            "Requirement already satisfied: grpcio<2.0,>=1.24.3 in /usr/local/lib/python3.10/dist-packages (from tensorflow) (1.54.0)\n",
            "Requirement already satisfied: h5py>=2.9.0 in /usr/local/lib/python3.10/dist-packages (from tensorflow) (3.8.0)\n",
            "Requirement already satisfied: jax>=0.3.15 in /usr/local/lib/python3.10/dist-packages (from tensorflow) (0.4.8)\n",
            "Requirement already satisfied: keras<2.13,>=2.12.0 in /usr/local/lib/python3.10/dist-packages (from tensorflow) (2.12.0)\n",
            "Requirement already satisfied: libclang>=13.0.0 in /usr/local/lib/python3.10/dist-packages (from tensorflow) (16.0.0)\n",
            "Requirement already satisfied: numpy<1.24,>=1.22 in /usr/local/lib/python3.10/dist-packages (from tensorflow) (1.22.4)\n",
            "Requirement already satisfied: opt-einsum>=2.3.2 in /usr/local/lib/python3.10/dist-packages (from tensorflow) (3.3.0)\n",
            "Requirement already satisfied: packaging in /usr/local/lib/python3.10/dist-packages (from tensorflow) (23.1)\n",
            "Requirement already satisfied: protobuf!=4.21.0,!=4.21.1,!=4.21.2,!=4.21.3,!=4.21.4,!=4.21.5,<5.0.0dev,>=3.20.3 in /usr/local/lib/python3.10/dist-packages (from tensorflow) (3.20.3)\n",
            "Requirement already satisfied: setuptools in /usr/local/lib/python3.10/dist-packages (from tensorflow) (67.7.2)\n",
            "Requirement already satisfied: six>=1.12.0 in /usr/local/lib/python3.10/dist-packages (from tensorflow) (1.16.0)\n",
            "Requirement already satisfied: tensorboard<2.13,>=2.12 in /usr/local/lib/python3.10/dist-packages (from tensorflow) (2.12.2)\n",
            "Requirement already satisfied: tensorflow-estimator<2.13,>=2.12.0 in /usr/local/lib/python3.10/dist-packages (from tensorflow) (2.12.0)\n",
            "Requirement already satisfied: termcolor>=1.1.0 in /usr/local/lib/python3.10/dist-packages (from tensorflow) (2.3.0)\n",
            "Requirement already satisfied: typing-extensions>=3.6.6 in /usr/local/lib/python3.10/dist-packages (from tensorflow) (4.5.0)\n",
            "Requirement already satisfied: wrapt<1.15,>=1.11.0 in /usr/local/lib/python3.10/dist-packages (from tensorflow) (1.14.1)\n",
            "Requirement already satisfied: tensorflow-io-gcs-filesystem>=0.23.1 in /usr/local/lib/python3.10/dist-packages (from tensorflow) (0.32.0)\n",
            "Requirement already satisfied: wheel<1.0,>=0.23.0 in /usr/local/lib/python3.10/dist-packages (from astunparse>=1.6.0->tensorflow) (0.40.0)\n",
            "Requirement already satisfied: ml-dtypes>=0.0.3 in /usr/local/lib/python3.10/dist-packages (from jax>=0.3.15->tensorflow) (0.1.0)\n",
            "Requirement already satisfied: scipy>=1.7 in /usr/local/lib/python3.10/dist-packages (from jax>=0.3.15->tensorflow) (1.10.1)\n",
            "Requirement already satisfied: google-auth<3,>=1.6.3 in /usr/local/lib/python3.10/dist-packages (from tensorboard<2.13,>=2.12->tensorflow) (2.17.3)\n",
            "Requirement already satisfied: google-auth-oauthlib<1.1,>=0.5 in /usr/local/lib/python3.10/dist-packages (from tensorboard<2.13,>=2.12->tensorflow) (1.0.0)\n",
            "Requirement already satisfied: markdown>=2.6.8 in /usr/local/lib/python3.10/dist-packages (from tensorboard<2.13,>=2.12->tensorflow) (3.4.3)\n",
            "Requirement already satisfied: requests<3,>=2.21.0 in /usr/local/lib/python3.10/dist-packages (from tensorboard<2.13,>=2.12->tensorflow) (2.27.1)\n",
            "Requirement already satisfied: tensorboard-data-server<0.8.0,>=0.7.0 in /usr/local/lib/python3.10/dist-packages (from tensorboard<2.13,>=2.12->tensorflow) (0.7.0)\n",
            "Requirement already satisfied: tensorboard-plugin-wit>=1.6.0 in /usr/local/lib/python3.10/dist-packages (from tensorboard<2.13,>=2.12->tensorflow) (1.8.1)\n",
            "Requirement already satisfied: werkzeug>=1.0.1 in /usr/local/lib/python3.10/dist-packages (from tensorboard<2.13,>=2.12->tensorflow) (2.3.0)\n",
            "Requirement already satisfied: cachetools<6.0,>=2.0.0 in /usr/local/lib/python3.10/dist-packages (from google-auth<3,>=1.6.3->tensorboard<2.13,>=2.12->tensorflow) (5.3.0)\n",
            "Requirement already satisfied: pyasn1-modules>=0.2.1 in /usr/local/lib/python3.10/dist-packages (from google-auth<3,>=1.6.3->tensorboard<2.13,>=2.12->tensorflow) (0.3.0)\n",
            "Requirement already satisfied: rsa<5,>=3.1.4 in /usr/local/lib/python3.10/dist-packages (from google-auth<3,>=1.6.3->tensorboard<2.13,>=2.12->tensorflow) (4.9)\n",
            "Requirement already satisfied: requests-oauthlib>=0.7.0 in /usr/local/lib/python3.10/dist-packages (from google-auth-oauthlib<1.1,>=0.5->tensorboard<2.13,>=2.12->tensorflow) (1.3.1)\n",
            "Requirement already satisfied: urllib3<1.27,>=1.21.1 in /usr/local/lib/python3.10/dist-packages (from requests<3,>=2.21.0->tensorboard<2.13,>=2.12->tensorflow) (1.26.15)\n",
            "Requirement already satisfied: certifi>=2017.4.17 in /usr/local/lib/python3.10/dist-packages (from requests<3,>=2.21.0->tensorboard<2.13,>=2.12->tensorflow) (2022.12.7)\n",
            "Requirement already satisfied: charset-normalizer~=2.0.0 in /usr/local/lib/python3.10/dist-packages (from requests<3,>=2.21.0->tensorboard<2.13,>=2.12->tensorflow) (2.0.12)\n",
            "Requirement already satisfied: idna<4,>=2.5 in /usr/local/lib/python3.10/dist-packages (from requests<3,>=2.21.0->tensorboard<2.13,>=2.12->tensorflow) (3.4)\n",
            "Requirement already satisfied: MarkupSafe>=2.1.1 in /usr/local/lib/python3.10/dist-packages (from werkzeug>=1.0.1->tensorboard<2.13,>=2.12->tensorflow) (2.1.2)\n",
            "Requirement already satisfied: pyasn1<0.6.0,>=0.4.6 in /usr/local/lib/python3.10/dist-packages (from pyasn1-modules>=0.2.1->google-auth<3,>=1.6.3->tensorboard<2.13,>=2.12->tensorflow) (0.5.0)\n",
            "Requirement already satisfied: oauthlib>=3.0.0 in /usr/local/lib/python3.10/dist-packages (from requests-oauthlib>=0.7.0->google-auth-oauthlib<1.1,>=0.5->tensorboard<2.13,>=2.12->tensorflow) (3.2.2)\n",
            "Looking in indexes: https://pypi.org/simple, https://us-python.pkg.dev/colab-wheels/public/simple/\n",
            "Requirement already satisfied: keras in /usr/local/lib/python3.10/dist-packages (2.12.0)\n"
          ]
        }
      ],
      "source": [
        "%pip install tensorflow --upgrade\n",
        "%pip install keras --upgrade\n",
        "\n",
        "import numpy as np\n",
        "from matplotlib import pyplot as pl\n",
        "\n",
        "from keras.datasets import mnist, fashion_mnist\n",
        "from keras.models import Model\n",
        "from keras.layers.core import Dense, Dropout, Flatten\n",
        "from tensorflow.keras.optimizers import RMSprop\n",
        "from keras.utils import np_utils\n",
        "from keras.layers.convolutional import Conv2D, MaxPooling2D\n",
        "from keras.layers import Input\n",
        "from sklearn import metrics as me\n",
        "from scipy import stats\n",
        "\n",
        "%matplotlib inline"
      ]
    },
    {
      "cell_type": "markdown",
      "metadata": {
        "id": "vbttXt8SbfOH"
      },
      "source": [
        "First, create some useful functions"
      ]
    },
    {
      "cell_type": "code",
      "execution_count": null,
      "metadata": {
        "id": "jAR9jPgybfOO"
      },
      "outputs": [],
      "source": [
        "def build_grid_of_images(array):\n",
        "    assert len(array.shape) == 3\n",
        "    dim_0 = np.sqrt(array.shape[0])\n",
        "    assert dim_0.is_integer()\n",
        "    \n",
        "    temp_out = np.reshape(array, (dim_0, dim_0, array.shape[1], array.shape[2]))\n",
        "    temp_out = np.rollaxis(temp_out, 1, 3)\n",
        "    return np.reshape(temp_out, (dim_0*array.shape[1], dim_0*array.shape[2]))\n",
        "\n",
        "def plot_conv_layer_output(temp_out, title):\n",
        "    temp_to_plot = build_grid_of_images(temp_out)\n",
        "    pl.imshow(temp_to_plot, interpolation='nearest', cmap=pl.get_cmap('Greys'))\n",
        "    ax = pl.gca()\n",
        "    ax.set_xticks(np.arange(-0.5, temp_to_plot.shape[0]+0.5, temp_out.shape[1]))    \n",
        "    ax.set_yticks(np.arange(-0.5, temp_to_plot.shape[0]+0.5, temp_out.shape[2]))\n",
        "    pl.grid()\n",
        "    pl.tick_params(axis='both', which='both', bottom='off', top='off', left='off', right='off', labelbottom='off', labelleft='off')\n",
        "    pl.title(title)\n",
        "\n",
        "def plot_dense_layer_output(temp_out, title):\n",
        "    pl.bar(np.arange(temp_out.shape[1])-0.4, temp_out[0,:])\n",
        "    pl.xlim(-0.5, temp_out.shape[1])\n",
        "    pl.grid()\n",
        "    pl.title(title)"
      ]
    },
    {
      "cell_type": "markdown",
      "metadata": {
        "id": "3fVOW4jGbfOb"
      },
      "source": [
        "Load the `mnist` dataset and normalize in the range [0, 1]"
      ]
    },
    {
      "cell_type": "code",
      "execution_count": 2,
      "metadata": {
        "colab": {
          "base_uri": "https://localhost:8080/"
        },
        "id": "2H2K3S4MbfOf",
        "outputId": "878cce12-efdf-4254-aaa6-36d824e38439"
      },
      "outputs": [
        {
          "output_type": "stream",
          "name": "stdout",
          "text": [
            "Downloading data from https://storage.googleapis.com/tensorflow/tf-keras-datasets/train-labels-idx1-ubyte.gz\n",
            "29515/29515 [==============================] - 0s 0us/step\n",
            "Downloading data from https://storage.googleapis.com/tensorflow/tf-keras-datasets/train-images-idx3-ubyte.gz\n",
            "26421880/26421880 [==============================] - 0s 0us/step\n",
            "Downloading data from https://storage.googleapis.com/tensorflow/tf-keras-datasets/t10k-labels-idx1-ubyte.gz\n",
            "5148/5148 [==============================] - 0s 0us/step\n",
            "Downloading data from https://storage.googleapis.com/tensorflow/tf-keras-datasets/t10k-images-idx3-ubyte.gz\n",
            "4422102/4422102 [==============================] - 0s 0us/step\n",
            "60000 train samples\n",
            "10000 test samples\n"
          ]
        }
      ],
      "source": [
        "#(X_train, y_train), (X_test, y_test) = mnist.load_data()\n",
        "(X_train, y_train), (X_test, y_test) = fashion_mnist.load_data()\n",
        "\n",
        "n_train, height, width = X_train.shape\n",
        "n_test, _, _ = X_test.shape\n",
        "\n",
        "X_train = X_train.reshape(n_train, height, width, 1).astype('float32')\n",
        "X_test = X_test.reshape(n_test, height, width, 1).astype('float32')\n",
        "\n",
        "X_train /= 255.0\n",
        "X_test /= 255.0\n",
        "\n",
        "n_classes = 10\n",
        "\n",
        "print(n_train, 'train samples')\n",
        "print(n_test, 'test samples')\n",
        "\n",
        "# convert class vectors to binary class matrices\n",
        "Y_train = np_utils.to_categorical(y_train, n_classes)\n",
        "Y_test = np_utils.to_categorical(y_test, n_classes)"
      ]
    },
    {
      "cell_type": "code",
      "execution_count": 3,
      "metadata": {
        "colab": {
          "base_uri": "https://localhost:8080/"
        },
        "id": "L3CGkqwxxsaW",
        "outputId": "86a468c7-a170-4d03-9ab0-062687f698f5"
      },
      "outputs": [
        {
          "output_type": "stream",
          "name": "stdout",
          "text": [
            "X_train.shape =  (60000, 28, 28, 1)\n",
            "Y_train.shape =  (60000, 10)\n",
            "X_test.shape =  (10000, 28, 28, 1)\n",
            "Y_test.shape =  (10000, 10)\n"
          ]
        }
      ],
      "source": [
        "print('X_train.shape = ', X_train.shape)\n",
        "print('Y_train.shape = ', Y_train.shape)\n",
        "print('X_test.shape = ', X_test.shape)\n",
        "print('Y_test.shape = ', Y_test.shape)"
      ]
    },
    {
      "cell_type": "markdown",
      "metadata": {
        "id": "2B-WNiQUbfOq"
      },
      "source": [
        "Create the CNN and show its architecture"
      ]
    },
    {
      "cell_type": "code",
      "execution_count": 11,
      "metadata": {
        "colab": {
          "base_uri": "https://localhost:8080/"
        },
        "id": "yhOscSNPbfOt",
        "outputId": "de963d19-2c53-4a71-b056-49329d735cab"
      },
      "outputs": [
        {
          "output_type": "stream",
          "name": "stdout",
          "text": [
            "Model: \"model_3\"\n",
            "_________________________________________________________________\n",
            " Layer (type)                Output Shape              Param #   \n",
            "=================================================================\n",
            " l0 (InputLayer)             [(None, 28, 28, 1)]       0         \n",
            "                                                                 \n",
            " l1 (Conv2D)                 (None, 28, 28, 64)        640       \n",
            "                                                                 \n",
            " l1_mp (MaxPooling2D)        (None, 7, 7, 64)          0         \n",
            "                                                                 \n",
            " l2 (Conv2D)                 (None, 7, 7, 32)          8224      \n",
            "                                                                 \n",
            " l2_mp (MaxPooling2D)        (None, 3, 3, 32)          0         \n",
            "                                                                 \n",
            " flat (Flatten)              (None, 288)               0         \n",
            "                                                                 \n",
            " l4 (Dense)                  (None, 50)                14450     \n",
            "                                                                 \n",
            " l42 (Dense)                 (None, 30)                1530      \n",
            "                                                                 \n",
            " l5 (Dense)                  (None, 10)                310       \n",
            "                                                                 \n",
            "=================================================================\n",
            "Total params: 25,154\n",
            "Trainable params: 25,154\n",
            "Non-trainable params: 0\n",
            "_________________________________________________________________\n"
          ]
        }
      ],
      "source": [
        "l0 = Input(shape=(height, width, 1), name='l0')\n",
        "\n",
        "l1 = Conv2D(64, (3, 3), padding='same', activation='relu', name='l1')(l0)\n",
        "l1_mp = MaxPooling2D(pool_size=(4, 4), name='l1_mp')(l1)\n",
        "\n",
        "l2 = Conv2D(32, (2, 2), padding='same', activation='relu', name='l2')(l1_mp)\n",
        "l2_mp = MaxPooling2D(pool_size=(2, 2), name='l2_mp')(l2)\n",
        "\n",
        "#l3 = Conv2D(8, (2, 2), padding='same', activation='relu', name='l3')(l2_mp)\n",
        "#l3_mp = MaxPooling2D(pool_size=(4, 4), name='l3_mp')(l3)\n",
        "\n",
        "flat = Flatten(name='flat')(l2_mp)\n",
        "\n",
        "l4 = Dense(50, activation='relu', name='l4')(flat)\n",
        "l42 = Dense(30, activation='relu', name='l42')(l4)\n",
        "\n",
        "l5 = Dense(n_classes, activation='softmax', name='l5')(l42)\n",
        "\n",
        "model = Model(inputs=l0, outputs=l5)\n",
        "model.summary()"
      ]
    },
    {
      "cell_type": "markdown",
      "metadata": {
        "id": "sP_cugPCbfO6"
      },
      "source": [
        "Define some constants and train de CNN"
      ]
    },
    {
      "cell_type": "code",
      "execution_count": 13,
      "metadata": {
        "colab": {
          "base_uri": "https://localhost:8080/"
        },
        "id": "l8eKqD80bfPB",
        "outputId": "bd2dc989-d7c1-4a99-d3d9-4d5eefb5071a"
      },
      "outputs": [
        {
          "output_type": "stream",
          "name": "stdout",
          "text": [
            "Epoch 1/20\n",
            "844/844 [==============================] - 6s 5ms/step - loss: 0.7234 - accuracy: 0.7249 - val_loss: 0.5023 - val_accuracy: 0.8150\n",
            "Epoch 2/20\n",
            "844/844 [==============================] - 4s 4ms/step - loss: 0.4189 - accuracy: 0.8469 - val_loss: 0.4018 - val_accuracy: 0.8540\n",
            "Epoch 3/20\n",
            "844/844 [==============================] - 4s 4ms/step - loss: 0.3496 - accuracy: 0.8736 - val_loss: 0.3244 - val_accuracy: 0.8808\n",
            "Epoch 4/20\n",
            "844/844 [==============================] - 4s 5ms/step - loss: 0.3122 - accuracy: 0.8867 - val_loss: 0.3082 - val_accuracy: 0.8917\n",
            "Epoch 5/20\n",
            "844/844 [==============================] - 4s 4ms/step - loss: 0.2890 - accuracy: 0.8948 - val_loss: 0.2963 - val_accuracy: 0.8930\n",
            "Epoch 6/20\n",
            "844/844 [==============================] - 4s 4ms/step - loss: 0.2717 - accuracy: 0.8999 - val_loss: 0.2907 - val_accuracy: 0.8943\n",
            "Epoch 7/20\n",
            "844/844 [==============================] - 4s 5ms/step - loss: 0.2565 - accuracy: 0.9060 - val_loss: 0.3192 - val_accuracy: 0.8813\n",
            "Epoch 8/20\n",
            "844/844 [==============================] - 4s 5ms/step - loss: 0.2459 - accuracy: 0.9102 - val_loss: 0.2632 - val_accuracy: 0.9028\n",
            "Epoch 9/20\n",
            "844/844 [==============================] - 4s 4ms/step - loss: 0.2354 - accuracy: 0.9144 - val_loss: 0.2590 - val_accuracy: 0.9058\n",
            "Epoch 10/20\n",
            "844/844 [==============================] - 4s 5ms/step - loss: 0.2272 - accuracy: 0.9166 - val_loss: 0.2632 - val_accuracy: 0.9038\n",
            "Epoch 11/20\n",
            "844/844 [==============================] - 4s 5ms/step - loss: 0.2181 - accuracy: 0.9188 - val_loss: 0.2583 - val_accuracy: 0.9015\n",
            "Epoch 12/20\n",
            "844/844 [==============================] - 4s 4ms/step - loss: 0.2119 - accuracy: 0.9218 - val_loss: 0.2779 - val_accuracy: 0.8993\n",
            "Epoch 13/20\n",
            "844/844 [==============================] - 4s 4ms/step - loss: 0.2047 - accuracy: 0.9250 - val_loss: 0.2528 - val_accuracy: 0.9080\n",
            "Epoch 14/20\n",
            "844/844 [==============================] - 4s 5ms/step - loss: 0.1978 - accuracy: 0.9270 - val_loss: 0.2845 - val_accuracy: 0.9027\n",
            "Epoch 15/20\n",
            "844/844 [==============================] - 4s 4ms/step - loss: 0.1924 - accuracy: 0.9295 - val_loss: 0.2593 - val_accuracy: 0.9113\n",
            "Epoch 16/20\n",
            "844/844 [==============================] - 4s 4ms/step - loss: 0.1877 - accuracy: 0.9314 - val_loss: 0.2469 - val_accuracy: 0.9125\n",
            "Epoch 17/20\n",
            "844/844 [==============================] - 4s 5ms/step - loss: 0.1832 - accuracy: 0.9325 - val_loss: 0.2589 - val_accuracy: 0.9100\n",
            "Epoch 18/20\n",
            "844/844 [==============================] - 4s 4ms/step - loss: 0.1793 - accuracy: 0.9337 - val_loss: 0.2461 - val_accuracy: 0.9143\n",
            "Epoch 19/20\n",
            "844/844 [==============================] - 5s 6ms/step - loss: 0.1754 - accuracy: 0.9354 - val_loss: 0.2905 - val_accuracy: 0.9032\n",
            "Epoch 20/20\n",
            "844/844 [==============================] - 4s 5ms/step - loss: 0.1711 - accuracy: 0.9373 - val_loss: 0.2646 - val_accuracy: 0.9097\n"
          ]
        }
      ],
      "source": [
        "batch_size = 64\n",
        "n_epoch = 20\n",
        "\n",
        "model.compile(loss='categorical_crossentropy', optimizer=RMSprop(), metrics=['accuracy'])\n",
        "\n",
        "history = model.fit(X_train, Y_train, batch_size=batch_size, epochs=n_epoch, verbose=1, validation_split=0.1)"
      ]
    },
    {
      "cell_type": "markdown",
      "metadata": {
        "id": "IBX2Tc_0bfPK"
      },
      "source": [
        "Show the performance of the model"
      ]
    },
    {
      "cell_type": "code",
      "execution_count": 14,
      "metadata": {
        "colab": {
          "base_uri": "https://localhost:8080/",
          "height": 465
        },
        "id": "WeaMjl-EbfPS",
        "outputId": "cb570ee9-f96c-495e-8f2a-473ccedf82c5"
      },
      "outputs": [
        {
          "output_type": "stream",
          "name": "stdout",
          "text": [
            "Test score: 0.28134334087371826\n",
            "Test accuracy: 0.9085000157356262\n"
          ]
        },
        {
          "output_type": "display_data",
          "data": {
            "text/plain": [
              "<Figure size 640x480 with 1 Axes>"
            ],
            "image/png": "[encoded data removed]"
          },
          "metadata": {}
        }
      ],
      "source": [
        "pl.plot(history.history['loss'], label='Training')\n",
        "pl.plot(history.history['val_loss'], label='Testing')\n",
        "pl.legend()\n",
        "pl.grid()\n",
        "\n",
        "score = model.evaluate(X_test, Y_test, verbose=0)\n",
        "print('Test score:', score[0])\n",
        "print('Test accuracy:', score[1])"
      ]
    },
    {
      "cell_type": "markdown",
      "metadata": {
        "id": "rXNZ2ZHSbfPm"
      },
      "source": [
        "Confusion matrix"
      ]
    },
    {
      "cell_type": "code",
      "execution_count": 15,
      "metadata": {
        "colab": {
          "base_uri": "https://localhost:8080/"
        },
        "id": "XfgRipFebfPm",
        "outputId": "89ec670e-3cfc-47ae-ccf6-ff0aa955b32f"
      },
      "outputs": [
        {
          "output_type": "stream",
          "name": "stdout",
          "text": [
            "313/313 [==============================] - 1s 2ms/step\n",
            "pred.shape =  (10000, 10)\n"
          ]
        },
        {
          "output_type": "execute_result",
          "data": {
            "text/plain": [
              "array([[856,   1,  12,  31,   1,   2,  92,   0,   4,   1],\n",
              "       [  1, 985,   0,  11,   1,   0,   0,   0,   2,   0],\n",
              "       [ 13,   2, 898,  10,  26,   0,  51,   0,   0,   0],\n",
              "       [ 14,   6,   7, 944,  11,   0,  17,   0,   1,   0],\n",
              "       [  0,   1, 110,  44, 794,   0,  48,   0,   3,   0],\n",
              "       [  0,   0,   0,   0,   0, 970,   0,  23,   0,   7],\n",
              "       [105,   2,  73,  36,  53,   0, 725,   0,   6,   0],\n",
              "       [  0,   0,   0,   0,   0,  11,   0, 965,   0,  24],\n",
              "       [  1,   1,   3,   3,   0,   2,   4,   3, 983,   0],\n",
              "       [  0,   0,   0,   0,   0,   4,   1,  30,   0, 965]])"
            ]
          },
          "metadata": {},
          "execution_count": 15
        }
      ],
      "source": [
        "pred = model.predict(X_test)\n",
        "print('pred.shape = ', pred.shape)\n",
        "pred = np.argmax(pred, axis=-1)\n",
        "me.confusion_matrix(y_test, pred)"
      ]
    },
    {
      "cell_type": "code",
      "execution_count": null,
      "metadata": {
        "id": "v4vBPd7dxsaZ"
      },
      "outputs": [],
      "source": []
    }
  ],
  "metadata": {
    "accelerator": "GPU",
    "colab": {
      "provenance": [],
      "include_colab_link": true
    },
    "kernelspec": {
      "display_name": "Python 3 (ipykernel)",
      "language": "python",
      "name": "python3"
    },
    "language_info": {
      "codemirror_mode": {
        "name": "ipython",
        "version": 3
      },
      "file_extension": ".py",
      "mimetype": "text/x-python",
      "name": "python",
      "nbconvert_exporter": "python",
      "pygments_lexer": "ipython3",
      "version": "3.10.9"
    }
  },
  "nbformat": 4,
  "nbformat_minor": 0
}